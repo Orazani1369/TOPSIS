{
 "cells": [
  {
   "cell_type": "code",
   "execution_count": 1,
   "metadata": {},
   "outputs": [],
   "source": [
    "import numpy as np\n",
    "a = [[7, 9, 9, 8], [8, 7, 8, 7], [9, 6, 8, 9], [6, 7, 8, 6]]\n",
    "w = [0.1, 0.4, 0.3, 0.2]\n",
    "I = [1, 1, 1, 0]\n"
   ]
  },
  {
   "cell_type": "code",
   "execution_count": 2,
   "metadata": {},
   "outputs": [],
   "source": [
    "r=np.zeros([np.size(a,0),np.size(a,1)])\n",
    "for i in range(0,np.size(a,0)):\n",
    "    for j in range(0,np.size(a,1)):\n",
    "        r[i][j]=a[i][j]/np.sqrt(np.sum(np.power(a,2),axis=0)[j])*w[j]\n",
    "# r"
   ]
  },
  {
   "cell_type": "code",
   "execution_count": 3,
   "metadata": {},
   "outputs": [],
   "source": [
    "Ap=np.zeros([np.size(r,1)])\n",
    "An=np.zeros([np.size(r,1)])\n",
    "for i in range(0,np.size(r,1)):\n",
    "    if I[i]==1:\n",
    "        Ap[i]=[max(j) for j in zip(*r)][i]\n",
    "        An[i]=[min(j) for j in zip(*r)][i]\n",
    "    elif I[i]==0:\n",
    "        Ap[i]=[min(j) for j in zip(*r)][i]\n",
    "        An[i]=[max(j) for j in zip(*r)][i]\n",
    "# print(Ap)\n",
    "# print(An)"
   ]
  },
  {
   "cell_type": "code",
   "execution_count": 4,
   "metadata": {},
   "outputs": [],
   "source": [
    "Sp=np.zeros([np.size(a,0),np.size(a,1)])\n",
    "Sn=np.zeros([np.size(a,0),np.size(a,1)])\n",
    "for i in range(0,np.size(a,0)):\n",
    "    for j in range(0,np.size(a,1)):\n",
    "        Sp[i][j]=np.power(r[i][j]-Ap[j],2)\n",
    "        Sn[i][j]=np.power(r[i][j]-An[j],2)\n",
    "Sp=np.power(np.sum(Sp,axis=1),.5)\n",
    "Sn=np.power(np.sum(Sn,axis=1),.5)\n"
   ]
  },
  {
   "cell_type": "code",
   "execution_count": 5,
   "metadata": {},
   "outputs": [
    {
     "name": "stdout",
     "output_type": "stream",
     "text": [
      "the best alternaitve is: 1\n",
      "the worse alternaitve is: 3\n"
     ]
    }
   ],
   "source": [
    "C=np.zeros(np.size(Sp))\n",
    "for i in range(0,np.size(Sp)):\n",
    "    C[i]=Sn[i]/(Sp[i]+Sn[i])\n",
    "\n",
    "print('the best alternaitve is: '+ str(C.argmax(axis=0)+1))\n",
    "print('the worse alternaitve is: '+ str(C.argmin(axis=0)+1))"
   ]
  },
  {
   "cell_type": "code",
   "execution_count": 17,
   "metadata": {},
   "outputs": [
    {
     "name": "stdout",
     "output_type": "stream",
     "text": [
      "[[0.04615663 0.24551796 0.16341143 0.10550088]\n",
      " [0.05275044 0.19095842 0.14525461 0.09231327]\n",
      " [0.05934424 0.16367864 0.14525461 0.11868849]\n",
      " [0.03956283 0.19095842 0.14525461 0.07912566]]\n",
      "(0.04615663313770509, 0.05275043787166296, 0.05934424260562084, 0.039562828403747224)\n"
     ]
    }
   ],
   "source": [
    "# An=np.zeros([4])\n",
    "# An\n",
    "# r.max(axis=0)\n",
    "# res = [max(i) for i in zip(*r)][1] \n",
    "print(r)\n",
    "print(list(zip(*r))[0])"
   ]
  },
  {
   "cell_type": "code",
   "execution_count": null,
   "metadata": {},
   "outputs": [],
   "source": []
  }
 ],
 "metadata": {
  "kernelspec": {
   "display_name": "Python 3",
   "language": "python",
   "name": "python3"
  },
  "language_info": {
   "codemirror_mode": {
    "name": "ipython",
    "version": 3
   },
   "file_extension": ".py",
   "mimetype": "text/x-python",
   "name": "python",
   "nbconvert_exporter": "python",
   "pygments_lexer": "ipython3",
   "version": "3.6.5"
  }
 },
 "nbformat": 4,
 "nbformat_minor": 2
}
